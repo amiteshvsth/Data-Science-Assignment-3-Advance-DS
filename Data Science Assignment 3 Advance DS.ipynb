{
 "cells": [
  {
   "cell_type": "code",
   "execution_count": 7,
   "id": "98841d3f-7c96-437a-932f-82c4f4ba16b4",
   "metadata": {},
   "outputs": [
    {
     "name": "stdout",
     "output_type": "stream",
     "text": [
      "olleh\n"
     ]
    }
   ],
   "source": [
    "# Q1. Write a code to reverse a string.\n",
    "\n",
    "\n",
    "# Answer\n",
    "\n",
    "\n",
    "def reverse_string(s):\n",
    "    return s[::-1]\n",
    "\n",
    "# Example usage\n",
    "print(reverse_string(\"hello\"))  # Output: \"olleo\""
   ]
  },
  {
   "cell_type": "code",
   "execution_count": 8,
   "id": "ae6987ee-4811-43d6-a0ba-3fe9fc1e293c",
   "metadata": {},
   "outputs": [
    {
     "name": "stdout",
     "output_type": "stream",
     "text": [
      "3\n"
     ]
    }
   ],
   "source": [
    "# Q2. Write a code to count the number of vowels in a string.\n",
    "\n",
    "# Answer\n",
    "\n",
    "\n",
    "def count_vowels(s):\n",
    "    vowels = \"aeiouAEIOU\"\n",
    "    return sum(1 for char in s if char in vowels)\n",
    "\n",
    "# Example usage\n",
    "print(count_vowels(\"hello world\"))  # Output: 3\n",
    "\n"
   ]
  },
  {
   "cell_type": "code",
   "execution_count": 9,
   "id": "7abfcf93-64fe-4ca9-8cbf-c30652ac5aa6",
   "metadata": {},
   "outputs": [
    {
     "name": "stdout",
     "output_type": "stream",
     "text": [
      "True\n",
      "False\n"
     ]
    }
   ],
   "source": [
    "# Q3. Write a code to check if a given string is a palindrome or not.\n",
    "\n",
    "def is_palindrome(s):\n",
    "    return s == s[::-1]\n",
    "\n",
    "# Example usage\n",
    "print(is_palindrome(\"racecar\"))  # Output: True\n",
    "print(is_palindrome(\"hello\"))    # Output: False\n"
   ]
  },
  {
   "cell_type": "code",
   "execution_count": 10,
   "id": "22d250c3-1292-4834-a987-6e969abe4060",
   "metadata": {},
   "outputs": [
    {
     "name": "stdout",
     "output_type": "stream",
     "text": [
      "True\n",
      "False\n"
     ]
    }
   ],
   "source": [
    "# Q4. Write a code to check if two given strings are anagrams of each other.\n",
    "\n",
    "# Answer\n",
    "\n",
    "def are_anagrams(s1, s2):\n",
    "    return sorted(s1) == sorted(s2)\n",
    "\n",
    "# Example usage\n",
    "print(are_anagrams(\"listen\", \"silent\"))  # Output: True\n",
    "print(are_anagrams(\"hello\", \"world\"))    # Output: False\n"
   ]
  },
  {
   "cell_type": "code",
   "execution_count": 11,
   "id": "d8854819-8f81-45ad-8c84-8c3899ddf1b5",
   "metadata": {},
   "outputs": [
    {
     "name": "stdout",
     "output_type": "stream",
     "text": [
      "[0, 7]\n"
     ]
    }
   ],
   "source": [
    "# Q5. Write a code to find all occurrences of a given substring within another string.\n",
    "\n",
    "# Answer\n",
    "\n",
    "\n",
    "def find_substring_occurrences(s, sub):\n",
    "    return [i for i in range(len(s)) if s.startswith(sub, i)]\n",
    "\n",
    "# Example usage\n",
    "print(find_substring_occurrences(\"abracadabra\", \"abra\"))  # Output: [0, 7]\n",
    "\n"
   ]
  },
  {
   "cell_type": "code",
   "execution_count": 12,
   "id": "f010bf9c-2e3e-4dbc-b5bf-b3f0480eba22",
   "metadata": {},
   "outputs": [
    {
     "name": "stdout",
     "output_type": "stream",
     "text": [
      "a2b1c5a3\n"
     ]
    }
   ],
   "source": [
    "# Q6. Write a code to perform basic string compression using the counts of repeated characters.\n",
    "\n",
    "# Answer\n",
    "\n",
    "\n",
    "def compress_string(s):\n",
    "    compressed = []\n",
    "    count = 1\n",
    "\n",
    "    for i in range(1, len(s)):\n",
    "        if s[i] == s[i - 1]:\n",
    "            count += 1\n",
    "        else:\n",
    "            compressed.append(s[i - 1] + str(count))\n",
    "            count = 1\n",
    "    compressed.append(s[-1] + str(count))\n",
    "\n",
    "    return ''.join(compressed)\n",
    "\n",
    "# Example usage\n",
    "print(compress_string(\"aabcccccaaa\"))  # Output: \"a2b1c5a3\"\n",
    "\n"
   ]
  },
  {
   "cell_type": "code",
   "execution_count": 13,
   "id": "b8c02739-1276-49b3-90b1-294644f9f51f",
   "metadata": {},
   "outputs": [
    {
     "name": "stdout",
     "output_type": "stream",
     "text": [
      "True\n",
      "False\n"
     ]
    }
   ],
   "source": [
    "# Q7. Write a code to determine if a string has all unique characters.\n",
    "\n",
    "# Answer\n",
    "\n",
    "def has_unique_characters(s):\n",
    "    return len(s) == len(set(s))\n",
    "\n",
    "# Example usage\n",
    "print(has_unique_characters(\"abcdef\"))  # Output: True\n",
    "print(has_unique_characters(\"aabbcc\"))  # Output: False\n",
    "\n"
   ]
  },
  {
   "cell_type": "code",
   "execution_count": 14,
   "id": "7365ad18-e563-4eda-bdcf-45eef882b70f",
   "metadata": {},
   "outputs": [
    {
     "name": "stdout",
     "output_type": "stream",
     "text": [
      "HELLO\n",
      "hello\n"
     ]
    }
   ],
   "source": [
    "# Q8. Write a code to convert a given string to uppercase or lowercase.\n",
    "\n",
    "# Answer\n",
    "\n",
    "def to_uppercase(s):\n",
    "    return s.upper()\n",
    "\n",
    "def to_lowercase(s):\n",
    "    return s.lower()\n",
    "\n",
    "# Example usage\n",
    "print(to_uppercase(\"hello\"))  # Output: \"HELLO\"\n",
    "print(to_lowercase(\"HELLO\"))  # Output: \"hello\"\n"
   ]
  },
  {
   "cell_type": "code",
   "execution_count": 15,
   "id": "9721870e-201c-4ab4-8158-aceb691c6c81",
   "metadata": {},
   "outputs": [
    {
     "name": "stdout",
     "output_type": "stream",
     "text": [
      "2\n"
     ]
    }
   ],
   "source": [
    "# Q9. Write a code to count the number of words in a string.\n",
    "\n",
    "# Answer\n",
    "\n",
    "def count_words(s):\n",
    "    return len(s.split())\n",
    "\n",
    "# Example usage\n",
    "print(count_words(\"hello world\"))  # Output: 2\n",
    "\n"
   ]
  },
  {
   "cell_type": "code",
   "execution_count": 16,
   "id": "5c2079ba-edcf-42c2-bde6-385f1a65baf2",
   "metadata": {},
   "outputs": [
    {
     "name": "stdout",
     "output_type": "stream",
     "text": [
      "helloworld\n"
     ]
    }
   ],
   "source": [
    "# Q10. Write a code to concatenate two strings without using the + operator.\n",
    "\n",
    "# Answer\n",
    "\n",
    "def concatenate_strings(s1, s2):\n",
    "    return \"{}{}\".format(s1, s2)\n",
    "\n",
    "# Example usage\n",
    "print(concatenate_strings(\"hello\", \"world\"))  # Output: \"helloworld\"\n"
   ]
  },
  {
   "cell_type": "code",
   "execution_count": 17,
   "id": "ddf71e34-6006-43b9-8cdb-53b533ff0f41",
   "metadata": {},
   "outputs": [
    {
     "name": "stdout",
     "output_type": "stream",
     "text": [
      "[2, 3, 4]\n"
     ]
    }
   ],
   "source": [
    "# Q11. Write a code to remove all occurrences of a specific element from a list.\n",
    "\n",
    "# Answer\n",
    "\n",
    "\n",
    "def remove_element(lst, element):\n",
    "    return [x for x in lst if x != element]\n",
    "\n",
    "# Example usage\n",
    "print(remove_element([1, 2, 3, 1, 4], 1))  # Output: [2, 3, 4]\n",
    "\n"
   ]
  },
  {
   "cell_type": "code",
   "execution_count": 18,
   "id": "2e226bb0-ee9f-49ee-ac81-91d7e6fac79c",
   "metadata": {},
   "outputs": [
    {
     "name": "stdout",
     "output_type": "stream",
     "text": [
      "4\n"
     ]
    }
   ],
   "source": [
    "# Q12. Implement a code to find the second largest number in a given list of integers.\n",
    "\n",
    "# Answer\n",
    "\n",
    "\n",
    "def second_largest(lst):\n",
    "    unique_lst = list(set(lst))\n",
    "    unique_lst.sort()\n",
    "    return unique_lst[-2] if len(unique_lst) > 1 else None\n",
    "\n",
    "# Example usage\n",
    "print(second_largest([1, 2, 3, 4, 5]))  # Output: 4\n",
    "\n",
    "\n"
   ]
  },
  {
   "cell_type": "code",
   "execution_count": 19,
   "id": "3fa71963-8325-4df6-96fe-9fb0c316e48e",
   "metadata": {},
   "outputs": [
    {
     "name": "stdout",
     "output_type": "stream",
     "text": [
      "{1: 1, 2: 2, 3: 3}\n"
     ]
    }
   ],
   "source": [
    "# Q13. Create a code to count the occurrences of each element in a list and return a dictionary with elements as keys and their counts as values.\n",
    "\n",
    "# Answer\n",
    "\n",
    "\n",
    "def count_occurrences(lst):\n",
    "    counts = {}\n",
    "    for item in lst:\n",
    "        if item in counts:\n",
    "            counts[item] += 1\n",
    "        else:\n",
    "            counts[item] = 1\n",
    "    return counts\n",
    "\n",
    "# Example usage\n",
    "print(count_occurrences([1, 2, 2, 3, 3, 3]))  # Output: {1: 1, 2: 2, 3: 3}\n",
    "\n"
   ]
  },
  {
   "cell_type": "code",
   "execution_count": 20,
   "id": "38f525bb-64d4-4761-8a6d-3687c9201465",
   "metadata": {},
   "outputs": [
    {
     "name": "stdout",
     "output_type": "stream",
     "text": [
      "[5, 4, 3, 2, 1]\n"
     ]
    }
   ],
   "source": [
    "# Q14. Write a code to reverse a list in-place without using any built-in reverse functions.\n",
    "\n",
    "# Answer\n",
    "\n",
    "\n",
    "def reverse_list(lst):\n",
    "    left, right = 0, len(lst) - 1\n",
    "    while left < right:\n",
    "        lst[left], lst[right] = lst[right], lst[left]\n",
    "        left += 1\n",
    "        right -= 1\n",
    "\n",
    "# Example usage\n",
    "lst = [1, 2, 3, 4, 5]\n",
    "reverse_list(lst)\n",
    "print(lst)  # Output: [5, 4, 3, 2, 1]\n"
   ]
  },
  {
   "cell_type": "code",
   "execution_count": 21,
   "id": "6400389c-bf2e-4a71-97fb-5346c7561f1d",
   "metadata": {},
   "outputs": [
    {
     "name": "stdout",
     "output_type": "stream",
     "text": [
      "[1, 2, 3, 4, 5]\n"
     ]
    }
   ],
   "source": [
    "# Q15. Implement a code to find and remove duplicates from a list while preserving the original order of elements.\n",
    "\n",
    "# Answer\n",
    "\n",
    "\n",
    "def remove_duplicates(lst):\n",
    "    seen = set()\n",
    "    result = []\n",
    "    for item in lst:\n",
    "        if item not in seen:\n",
    "            seen.add(item)\n",
    "            result.append(item)\n",
    "    return result\n",
    "\n",
    "# Example usage\n",
    "print(remove_duplicates([1, 2, 2, 3, 4, 4, 5]))  # Output: [1, 2, 3, 4, 5]\n",
    "\n"
   ]
  },
  {
   "cell_type": "code",
   "execution_count": 22,
   "id": "da4bc96a-6442-4dd6-91f7-85d144d634a2",
   "metadata": {},
   "outputs": [
    {
     "name": "stdout",
     "output_type": "stream",
     "text": [
      "True\n",
      "True\n",
      "False\n"
     ]
    }
   ],
   "source": [
    "# Q16. Create a code to check if a given list is sorted (either in ascending or descending order) or not.\n",
    "\n",
    "# Answer\n",
    "\n",
    "\n",
    "def is_sorted(lst):\n",
    "    return lst == sorted(lst) or lst == sorted(lst, reverse=True)\n",
    "\n",
    "# Example usage\n",
    "print(is_sorted([1, 2, 3, 4, 5]))  # Output: True\n",
    "print(is_sorted([5, 4, 3, 2, 1]))  # Output: True\n",
    "print(is_sorted([1, 3, 2]))        # Output: False\n",
    "\n"
   ]
  },
  {
   "cell_type": "code",
   "execution_count": 23,
   "id": "c07bb28a-f336-414d-a19c-8aa7d75c573c",
   "metadata": {},
   "outputs": [
    {
     "name": "stdout",
     "output_type": "stream",
     "text": [
      "[1, 2, 3, 4, 5, 6]\n"
     ]
    }
   ],
   "source": [
    "# Q17. Write a code to merge two sorted lists into a single sorted list.\n",
    "\n",
    "# Answer\n",
    "\n",
    "\n",
    "def merge_sorted_lists(lst1, lst2):\n",
    "    return sorted(lst1 + lst2)\n",
    "\n",
    "# Example usage\n",
    "print(merge_sorted_lists([1, 3, 5], [2, 4, 6]))  # Output: [1, 2, 3, 4, 5, 6]\n",
    "\n"
   ]
  },
  {
   "cell_type": "code",
   "execution_count": 24,
   "id": "58643566-84af-4144-b5c4-4dc80f580052",
   "metadata": {},
   "outputs": [
    {
     "name": "stdout",
     "output_type": "stream",
     "text": [
      "[2, 3]\n"
     ]
    }
   ],
   "source": [
    "# Q18. Implement a code to find the intersection of two given lists.\n",
    "\n",
    "# Answer\n",
    "\n",
    "def intersection(lst1, lst2):\n",
    "    return list(set(lst1) & set(lst2))\n",
    "\n",
    "# Example usage\n",
    "print(intersection([1, 2, 3], [2, 3, 4]))  # Output: [2, 3]\n",
    "\n",
    "\n"
   ]
  },
  {
   "cell_type": "code",
   "execution_count": 25,
   "id": "c4c800d6-ff5d-4e26-bdc9-71ec1e7ada8c",
   "metadata": {},
   "outputs": [
    {
     "name": "stdout",
     "output_type": "stream",
     "text": [
      "[1, 2, 3, 4]\n"
     ]
    }
   ],
   "source": [
    "# Q19. Create a code to find the union of two lists without duplicates.\n",
    "\n",
    "# Answer\n",
    "\n",
    "\n",
    "def union(lst1, lst2):\n",
    "    return list(set(lst1) | set(lst2))\n",
    "\n",
    "# Example usage\n",
    "print(union([1, 2, 3], [2, 3, 4]))  # Output: [1, 2, 3, 4]\n",
    "\n"
   ]
  },
  {
   "cell_type": "code",
   "execution_count": 26,
   "id": "abd55b84-c024-4e5d-a9d2-59c4e42be838",
   "metadata": {},
   "outputs": [
    {
     "name": "stdout",
     "output_type": "stream",
     "text": [
      "[3, 2, 1, 5, 4]\n"
     ]
    }
   ],
   "source": [
    "# Q20. Write a code to shuffle a given list randomly without using any built-in shuffle functions.\n",
    "\n",
    "# Answer\n",
    "\n",
    "\n",
    "import random\n",
    "\n",
    "def shuffle_list(lst):\n",
    "    lst_copy = lst[:]\n",
    "    for i in range(len(lst_copy) - 1, 0, -1):\n",
    "        j = random.randint(0, i)\n",
    "        lst_copy[i], lst_copy[j] = lst_copy[j], lst_copy[i]\n",
    "    return lst_copy\n",
    "\n",
    "# Example usage\n",
    "print(shuffle_list([1, 2, 3, 4, 5]))  # Output: [randomly shuffled list]\n",
    "\n"
   ]
  },
  {
   "cell_type": "code",
   "execution_count": 27,
   "id": "8afa6c6e-61cf-49b0-9d97-a992e285388f",
   "metadata": {},
   "outputs": [
    {
     "name": "stdout",
     "output_type": "stream",
     "text": [
      "(3,)\n"
     ]
    }
   ],
   "source": [
    "# Q21. Write a code that takes two tuples as input and returns a new tuple containing elements that are common to both input tuples.\n",
    "\n",
    "# Answer\n",
    "\n",
    "\n",
    "def common_elements(tuple1, tuple2):\n",
    "    return tuple(set(tuple1) & set(tuple2))\n",
    "\n",
    "# Example usage\n",
    "print(common_elements((1, 2, 3), (3, 4, 5)))  # Output: (3,)\n",
    "\n"
   ]
  },
  {
   "cell_type": "code",
   "execution_count": 28,
   "id": "a007a685-0712-465b-bf1c-4c8a0d61c4ed",
   "metadata": {},
   "outputs": [],
   "source": [
    "# Q22. Create a code that prompts the user to enter two sets of integers separated by commas. Then, print the intersection of these two sets.\n",
    "\n",
    "# Answer\n",
    "\n",
    "def input_sets_intersection():\n",
    "    set1 = set(map(int, input(\"Enter first set of integers separated by commas: \").split(',')))\n",
    "    set2 = set(map(int, input(\"Enter second set of integers separated by commas: \").split(',')))\n",
    "    print(set1 & set2)\n",
    "\n",
    "# Example usage\n",
    "# input_sets_intersection()  # User Input: \"1,2,3\" and \"2,3,4\"\n",
    "\n",
    "\n"
   ]
  },
  {
   "cell_type": "code",
   "execution_count": 29,
   "id": "dfff264d-9be8-4ac5-8290-76e203686b80",
   "metadata": {},
   "outputs": [
    {
     "name": "stdout",
     "output_type": "stream",
     "text": [
      "(1, 2, 3, 4)\n"
     ]
    }
   ],
   "source": [
    "# Q23. Write a code to concatenate two tuples. The function should take two tuples as input and return a new tuple containing elements from both input tuples.\n",
    "\n",
    "# Answer\n",
    "\n",
    "\n",
    "def concatenate_tuples(tuple1, tuple2):\n",
    "    return tuple1 + tuple2\n",
    "\n",
    "# Example usage\n",
    "print(concatenate_tuples((1, 2), (3, 4)))  # Output: (1, 2, 3, 4)\n",
    "\n",
    "\n"
   ]
  },
  {
   "cell_type": "code",
   "execution_count": 30,
   "id": "7f356385-fe4f-43c4-9760-71b43985de5e",
   "metadata": {},
   "outputs": [],
   "source": [
    "# Q24. Develop a code that prompts the user to input two sets of strings. Then, print the elements that are present in the first set but not in the second set.\n",
    "\n",
    "# Answer\n",
    "\n",
    "\n",
    "def input_sets_difference():\n",
    "    set1 = set(input(\"Enter first set of strings separated by commas: \").split(','))\n",
    "    set2 = set(input(\"Enter second set of strings separated by commas: \").split(','))\n",
    "    print(set1 - set2)\n",
    "\n",
    "# Example usage\n",
    "# input_sets_difference()  # User Input: \"a,b,c\" and \"b,c,d\"\n",
    "\n"
   ]
  },
  {
   "cell_type": "code",
   "execution_count": 31,
   "id": "f7bc3a1e-61aa-4f6b-9754-0e5ed5484167",
   "metadata": {},
   "outputs": [
    {
     "name": "stdout",
     "output_type": "stream",
     "text": [
      "(2, 3, 4)\n"
     ]
    }
   ],
   "source": [
    "# Q25. Create a code that takes a tuple and two integers as input. The function should return a new tuple containing elements from the original tuple within the specified range of \n",
    "# indices.\n",
    "\n",
    "# Answer\n",
    "\n",
    "\n",
    "def tuple_slice(tup, start, end):\n",
    "    return tup[start:end+1]\n",
    "\n",
    "# Example usage\n",
    "print(tuple_slice((1, 2, 3, 4, 5), 1, 3))  # Output: (2, 3, 4)\n",
    "\n"
   ]
  },
  {
   "cell_type": "code",
   "execution_count": 35,
   "id": "e46c572f-5395-4261-aaf2-33c9bc1e40e6",
   "metadata": {},
   "outputs": [
    {
     "name": "stdin",
     "output_type": "stream",
     "text": [
      "Enter first set of characters separated by commas:  a, b, c\n",
      "Enter second set of characters separated by commas:  c, d, e\n"
     ]
    },
    {
     "name": "stdout",
     "output_type": "stream",
     "text": [
      "{' b', ' e', 'c', 'a', ' d', ' c'}\n"
     ]
    }
   ],
   "source": [
    "# Q26. Write a code that prompts the user to input two sets of characters. Then, print the union of these two sets.\n",
    "\n",
    "# Answer\n",
    "\n",
    "def input_sets_union():\n",
    "    set1 = set(input(\"Enter first set of characters separated by commas: \").split(','))\n",
    "    set2 = set(input(\"Enter second set of characters separated by commas: \").split(','))\n",
    "    print(set1 | set2)\n",
    "\n",
    "# Example usage\n",
    "input_sets_union()  # User Input: \"a,b,c\" and \"c,d,e\"\n",
    "\n"
   ]
  },
  {
   "cell_type": "code",
   "execution_count": 36,
   "id": "bc973213-a374-4d68-b18d-3b79987ed713",
   "metadata": {},
   "outputs": [
    {
     "name": "stdout",
     "output_type": "stream",
     "text": [
      "(5, 1)\n"
     ]
    }
   ],
   "source": [
    "\n",
    "# Q27. Develop a code that takes a tuple of integers as input. The function should return the maximum and minimum values from the tuple using tuple unpacking.\n",
    "\n",
    "# Answer\n",
    "\n",
    "\n",
    "def max_min_tuple(tup):\n",
    "    return max(tup), min(tup)\n",
    "\n",
    "# Example usage\n",
    "print(max_min_tuple((1, 2, 3, 4, 5)))  # Output: (5, 1)\n",
    "\n",
    "\n"
   ]
  },
  {
   "cell_type": "code",
   "execution_count": 37,
   "id": "9c18f06b-7da4-493f-8acd-37b66159075b",
   "metadata": {},
   "outputs": [
    {
     "name": "stdout",
     "output_type": "stream",
     "text": [
      "Union: {1, 2, 3, 4, 5, 6}\n",
      "Intersection: {3, 4}\n",
      "Difference: {1, 2}\n"
     ]
    }
   ],
   "source": [
    "# Q28. Create a code that defines two sets of integers. Then, print the union, intersection, and difference of these two sets.\n",
    "\n",
    "# Answer\n",
    "\n",
    "\n",
    "def set_operations():\n",
    "    set1 = {1, 2, 3, 4}\n",
    "    set2 = {3, 4, 5, 6}\n",
    "    print(\"Union:\", set1 | set2)\n",
    "    print(\"Intersection:\", set1 & set2)\n",
    "    print(\"Difference:\", set1 - set2)\n",
    "\n",
    "# Example usage\n",
    "set_operations()\n",
    "\n"
   ]
  },
  {
   "cell_type": "code",
   "execution_count": 38,
   "id": "c8829774-8e82-4900-8b1a-93e93201c882",
   "metadata": {},
   "outputs": [
    {
     "name": "stdout",
     "output_type": "stream",
     "text": [
      "2\n"
     ]
    }
   ],
   "source": [
    "# Q29. Write a code that takes a tuple and an element as input. The function should return the count of occurrences of the given element in the tuple.\n",
    "\n",
    "# Answer\n",
    "\n",
    "\n",
    "def count_element_in_tuple(tup, element):\n",
    "    return tup.count(element)\n",
    "\n",
    "# Example usage\n",
    "print(count_element_in_tuple((1, 2, 2, 3, 3, 3), 2))  # Output: 2\n",
    "\n"
   ]
  },
  {
   "cell_type": "code",
   "execution_count": 40,
   "id": "b5eec5bf-2f4c-44f1-8b17-a3be47c24e90",
   "metadata": {},
   "outputs": [
    {
     "name": "stdin",
     "output_type": "stream",
     "text": [
      "Enter first set of strings separated by commas:  a, b, c\n",
      "Enter second set of strings separated by commas:  b, c, d\n"
     ]
    },
    {
     "name": "stdout",
     "output_type": "stream",
     "text": [
      "{'a', ' d', 'b', ' b'}\n"
     ]
    }
   ],
   "source": [
    "# Q30. Develop a code that prompts the user to input two sets of strings. Then, print the symmetric difference of these two sets.\n",
    "\n",
    "# Answer\n",
    "\n",
    "\n",
    "def input_sets_symmetric_difference():\n",
    "    set1 = set(input(\"Enter first set of strings separated by commas: \").split(','))\n",
    "    set2 = set(input(\"Enter second set of strings separated by commas: \").split(','))\n",
    "    print(set1 ^ set2)\n",
    "\n",
    "# Example usage\n",
    "input_sets_symmetric_difference()  # User Input: \"a,b,c\" and \"b,c,d\"\n",
    "\n"
   ]
  },
  {
   "cell_type": "code",
   "execution_count": 41,
   "id": "44bcdef1-0736-4adc-b4be-e92a03647ed0",
   "metadata": {},
   "outputs": [
    {
     "name": "stdout",
     "output_type": "stream",
     "text": [
      "{'hello': 2, 'world': 1}\n"
     ]
    }
   ],
   "source": [
    "# Q31. Write a code that takes a list of words as input and returns a dictionary where the keys are unique words and the values are the frequencies of those words in the input list.\n",
    "\n",
    "# Answer\n",
    "\n",
    "\n",
    "def word_frequencies(words):\n",
    "    counts = {}\n",
    "    for word in words:\n",
    "        if word in counts:\n",
    "            counts[word] += 1\n",
    "        else:\n",
    "            counts[word] = 1\n",
    "    return counts\n",
    "\n",
    "# Example usage\n",
    "print(word_frequencies([\"hello\", \"world\", \"hello\"]))  # Output: {'hello': 2, 'world': 1}\n",
    "\n",
    "\n"
   ]
  },
  {
   "cell_type": "code",
   "execution_count": 42,
   "id": "f4a8a80a-00f8-4d15-a108-371763d13b26",
   "metadata": {},
   "outputs": [
    {
     "name": "stdout",
     "output_type": "stream",
     "text": [
      "{'a': 1, 'b': 5, 'c': 4}\n"
     ]
    }
   ],
   "source": [
    "# Q32. Write a code that takes two dictionaries as input and merges them into a single dictionary. If there are common keys, the values should be added together.\n",
    "\n",
    "# Answer\n",
    "\n",
    "\n",
    "def merge_dictionaries(dict1, dict2):\n",
    "    merged = dict1.copy()\n",
    "    for key, value in dict2.items():\n",
    "        if key in merged:\n",
    "            merged[key] += value\n",
    "        else:\n",
    "            merged[key] = value\n",
    "    return merged\n",
    "\n",
    "# Example usage\n",
    "print(merge_dictionaries({'a': 1, 'b': 2}, {'b': 3, 'c': 4}))  # Output: {'a': 1, 'b': 5, 'c': 4}\n",
    "\n"
   ]
  },
  {
   "cell_type": "code",
   "execution_count": 43,
   "id": "758c6fa3-c32c-40a2-9a49-8972829ec808",
   "metadata": {},
   "outputs": [
    {
     "name": "stdout",
     "output_type": "stream",
     "text": [
      "1\n",
      "None\n"
     ]
    }
   ],
   "source": [
    "# Q33. Write a code to access a value in a nested dictionary. The function should take the dictionary and a list of keys as input, and return the corresponding value. \n",
    "# If any of the keys do not exist in the dictionary, the function should return None.\n",
    "\n",
    "# Answer\n",
    "\n",
    "def get_nested_value(d, keys):\n",
    "    for key in keys:\n",
    "        if isinstance(d, dict):\n",
    "            d = d.get(key)\n",
    "        else:\n",
    "            return None\n",
    "    return d\n",
    "\n",
    "# Example usage\n",
    "nested_dict = {'a': {'b': {'c': 1}}}\n",
    "print(get_nested_value(nested_dict, ['a', 'b', 'c']))  # Output: 1\n",
    "print(get_nested_value(nested_dict, ['a', 'b', 'd']))  # Output: None\n",
    "\n",
    "\n"
   ]
  },
  {
   "cell_type": "code",
   "execution_count": 44,
   "id": "d53ca406-f6fb-419d-b8ae-f8a87348bd65",
   "metadata": {},
   "outputs": [
    {
     "name": "stdout",
     "output_type": "stream",
     "text": [
      "{'b': 1, 'c': 2, 'a': 3}\n"
     ]
    }
   ],
   "source": [
    "# Q34. Write a code that takes a dictionary as input and returns a sorted version of it based on the values. You can choose whether to sort in ascending or descending order.\n",
    "\n",
    "# Answer\n",
    "\n",
    "def sort_dict_by_value(d, descending=False):\n",
    "    return dict(sorted(d.items(), key=lambda item: item[1], reverse=descending))\n",
    "\n",
    "# Example usage\n",
    "print(sort_dict_by_value({'a': 3, 'b': 1, 'c': 2}))  # Output: {'b': 1, 'c': 2, 'a': 3}\n"
   ]
  },
  {
   "cell_type": "code",
   "execution_count": 45,
   "id": "78b72191-49da-4c55-882b-59c984feb502",
   "metadata": {},
   "outputs": [
    {
     "name": "stdout",
     "output_type": "stream",
     "text": [
      "{1: ['a', 'c'], 2: ['b']}\n"
     ]
    }
   ],
   "source": [
    "\n",
    "# Q35. Write a code that inverts a dictionary, swapping keys and values. Ensure that the inverted dictionary correctly handles cases where multiple keys have the same \n",
    "# value by storing the keys as a list in the inverted dictionary.\n",
    "\n",
    "# Answer\n",
    "\n",
    "def invert_dictionary(d):\n",
    "    inverted = {}\n",
    "    for key, value in d.items():\n",
    "        if value in inverted:\n",
    "            inverted[value].append(key)\n",
    "        else:\n",
    "            inverted[value] = [key]\n",
    "    return inverted\n",
    "\n",
    "# Example usage\n",
    "print(invert_dictionary({'a': 1, 'b': 2, 'c': 1}))  # Output: {1: ['a', 'c'], 2: ['b']}\n"
   ]
  },
  {
   "cell_type": "code",
   "execution_count": null,
   "id": "222789d3-fd6e-4262-b261-d9da54131aae",
   "metadata": {},
   "outputs": [],
   "source": []
  }
 ],
 "metadata": {
  "kernelspec": {
   "display_name": "Python 3 (ipykernel)",
   "language": "python",
   "name": "python3"
  },
  "language_info": {
   "codemirror_mode": {
    "name": "ipython",
    "version": 3
   },
   "file_extension": ".py",
   "mimetype": "text/x-python",
   "name": "python",
   "nbconvert_exporter": "python",
   "pygments_lexer": "ipython3",
   "version": "3.10.8"
  }
 },
 "nbformat": 4,
 "nbformat_minor": 5
}
